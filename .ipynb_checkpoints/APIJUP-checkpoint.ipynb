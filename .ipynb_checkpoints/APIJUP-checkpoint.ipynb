{
 "cells": [
  {
   "cell_type": "code",
   "execution_count": 1,
   "metadata": {},
   "outputs": [],
   "source": [
    "import hashlib #for hashing password\n",
    "\n",
    "users = {}  #var i.e name stored by values in it\n",
    "class Register(object):\n",
    "  \"\"\"Basic Registration using API\"\"\"\n",
    "  def __init__(self, app):                     #initialisation / constructor\n",
    "    self.app = app\n",
    "\n",
    "  def signup(self,username,password):\n",
    "    hash = hashlib.md5(password.encode())      #md5-encrypt hash\n",
    "    users.update({username:hash.hexdigest()})  #return hash value in hex\n",
    "    \n",
    "  def login(self,username,password):\n",
    "    hash = hashlib.md5(password.encode())\n",
    "    if users[username] == hash.hexdigest():    #compare hash \n",
    "      return True\n",
    "    else:\n",
    "      return False"
   ]
  },
  {
   "cell_type": "code",
   "execution_count": 2,
   "metadata": {},
   "outputs": [
    {
     "name": "stdout",
     "output_type": "stream",
     "text": [
      "Help on class Register in module __main__:\n",
      "\n",
      "class Register(builtins.object)\n",
      " |  Register(app)\n",
      " |  \n",
      " |  Basic Registration using API\n",
      " |  \n",
      " |  Methods defined here:\n",
      " |  \n",
      " |  __init__(self, app)\n",
      " |      Initialize self.  See help(type(self)) for accurate signature.\n",
      " |  \n",
      " |  login(self, username, password)\n",
      " |  \n",
      " |  signup(self, username, password)\n",
      " |  \n",
      " |  ----------------------------------------------------------------------\n",
      " |  Data descriptors defined here:\n",
      " |  \n",
      " |  __dict__\n",
      " |      dictionary for instance variables (if defined)\n",
      " |  \n",
      " |  __weakref__\n",
      " |      list of weak references to the object (if defined)\n",
      "\n"
     ]
    }
   ],
   "source": [
    "help(Register)\n"
   ]
  },
  {
   "cell_type": "code",
   "execution_count": 3,
   "metadata": {},
   "outputs": [],
   "source": [
    "u1 = Register('obj') #AN OBJECT CALLED U1 IS CREATED FOR CLASS REGISTER"
   ]
  },
  {
   "cell_type": "code",
   "execution_count": 4,
   "metadata": {},
   "outputs": [],
   "source": [
    "u1.signup('rish','halo')"
   ]
  },
  {
   "cell_type": "code",
   "execution_count": 5,
   "metadata": {},
   "outputs": [
    {
     "data": {
      "text/plain": [
       "{'rish': '57f842286171094855e51fc3a541c1e2'}"
      ]
     },
     "execution_count": 5,
     "metadata": {},
     "output_type": "execute_result"
    }
   ],
   "source": [
    "users"
   ]
  },
  {
   "cell_type": "code",
   "execution_count": 6,
   "metadata": {},
   "outputs": [
    {
     "data": {
      "text/plain": [
       "True"
      ]
     },
     "execution_count": 6,
     "metadata": {},
     "output_type": "execute_result"
    }
   ],
   "source": [
    "u1.login('rish','halo')"
   ]
  },
  {
   "cell_type": "code",
   "execution_count": 7,
   "metadata": {},
   "outputs": [],
   "source": [
    "#u1.login('just','pass')"
   ]
  },
  {
   "cell_type": "code",
   "execution_count": 8,
   "metadata": {},
   "outputs": [
    {
     "name": "stdout",
     "output_type": "stream",
     "text": [
      "Requirement already satisfied: flask-ngrok in c:\\users\\rahul\\anaconda3\\lib\\site-packages (0.0.25)\n",
      "Requirement already satisfied: Flask>=0.8 in c:\\users\\rahul\\anaconda3\\lib\\site-packages (from flask-ngrok) (1.1.1)\n",
      "Requirement already satisfied: requests in c:\\users\\rahul\\anaconda3\\lib\\site-packages (from flask-ngrok) (2.22.0)\n",
      "Requirement already satisfied: Werkzeug>=0.15 in c:\\users\\rahul\\anaconda3\\lib\\site-packages (from Flask>=0.8->flask-ngrok) (1.0.0)\n",
      "Requirement already satisfied: click>=5.1 in c:\\users\\rahul\\anaconda3\\lib\\site-packages (from Flask>=0.8->flask-ngrok) (7.0)\n",
      "Requirement already satisfied: Jinja2>=2.10.1 in c:\\users\\rahul\\anaconda3\\lib\\site-packages (from Flask>=0.8->flask-ngrok) (2.11.1)\n",
      "Requirement already satisfied: itsdangerous>=0.24 in c:\\users\\rahul\\anaconda3\\lib\\site-packages (from Flask>=0.8->flask-ngrok) (1.1.0)\n",
      "Requirement already satisfied: certifi>=2017.4.17 in c:\\users\\rahul\\anaconda3\\lib\\site-packages (from requests->flask-ngrok) (2019.11.28)\n",
      "Requirement already satisfied: idna<2.9,>=2.5 in c:\\users\\rahul\\anaconda3\\lib\\site-packages (from requests->flask-ngrok) (2.8)\n",
      "Requirement already satisfied: chardet<3.1.0,>=3.0.2 in c:\\users\\rahul\\anaconda3\\lib\\site-packages (from requests->flask-ngrok) (3.0.4)\n",
      "Requirement already satisfied: urllib3!=1.25.0,!=1.25.1,<1.26,>=1.21.1 in c:\\users\\rahul\\anaconda3\\lib\\site-packages (from requests->flask-ngrok) (1.25.8)\n",
      "Requirement already satisfied: MarkupSafe>=0.23 in c:\\users\\rahul\\anaconda3\\lib\\site-packages (from Jinja2>=2.10.1->Flask>=0.8->flask-ngrok) (1.1.1)\n",
      "Note: you may need to restart the kernel to use updated packages.\n"
     ]
    }
   ],
   "source": [
    "pip install flask-ngrok "
   ]
  },
  {
   "cell_type": "code",
   "execution_count": null,
   "metadata": {},
   "outputs": [
    {
     "name": "stdout",
     "output_type": "stream",
     "text": [
      " * Serving Flask app \"__main__\" (lazy loading)\n",
      " * Environment: production\n",
      "   WARNING: This is a development server. Do not use it in a production deployment.\n",
      "   Use a production WSGI server instead.\n",
      " * Debug mode: off\n"
     ]
    },
    {
     "name": "stderr",
     "output_type": "stream",
     "text": [
      " * Running on http://127.0.0.1:5000/ (Press CTRL+C to quit)\n"
     ]
    },
    {
     "name": "stdout",
     "output_type": "stream",
     "text": [
      " * Running on http://bce7283725cb.ngrok.io\n",
      " * Traffic stats available on http://127.0.0.1:4040\n"
     ]
    },
    {
     "name": "stderr",
     "output_type": "stream",
     "text": [
      "127.0.0.1 - - [02/Jun/2020 14:27:09] \"\u001b[37mGET / HTTP/1.1\u001b[0m\" 200 -\n",
      "127.0.0.1 - - [02/Jun/2020 14:27:12] \"\u001b[33mGET /favicon.ico HTTP/1.1\u001b[0m\" 404 -\n",
      "127.0.0.1 - - [02/Jun/2020 14:27:21] \"\u001b[37mGET / HTTP/1.1\u001b[0m\" 200 -\n",
      "127.0.0.1 - - [02/Jun/2020 14:27:24] \"\u001b[33mGET /favicon.ico HTTP/1.1\u001b[0m\" 404 -\n",
      "127.0.0.1 - - [02/Jun/2020 14:27:32] \"\u001b[33mGET /login HTTP/1.1\u001b[0m\" 404 -\n",
      "127.0.0.1 - - [02/Jun/2020 14:27:58] \"\u001b[37mGET /signup/rishi/abcd HTTP/1.1\u001b[0m\" 200 -\n"
     ]
    }
   ],
   "source": [
    "from flask_ngrok import run_with_ngrok\n",
    "from flask import Flask\n",
    "\n",
    "app = Flask(__name__)\n",
    "userobj = Register(app) #starts app instance\n",
    "run_with_ngrok(app)   #starts ngrok when the app is run\n",
    "\n",
    "@app.route(\"/\")\n",
    "def index():\n",
    "  return \"forSignup : /signup/username/password, forLogin : /login/username/password, forUsers : /users\"\n",
    "\n",
    "@app.route(\"/signup/<username>/<password>\")  #give this form of routing for signup once signup is done then give login with the below routing\n",
    "def reg(username,password):\n",
    "  userobj.signup(username,password)\n",
    "  return \"{} Successfully Registered\".format(username)\n",
    "\n",
    "@app.route(\"/login/<username>/<password>/\") #routing for login\n",
    "def login(username,password):\n",
    "  auth = userobj.login(username,password)\n",
    "  if auth:\n",
    "      return 'login successful for {}'.format(username)\n",
    "  else:\n",
    "      return 'wrong password'\n",
    "\n",
    "@app.route(\"/users\")\n",
    "def data():\n",
    "  return users\n",
    "\n",
    "app.run()"
   ]
  }
 ],
 "metadata": {
  "kernelspec": {
   "display_name": "Python 3",
   "language": "python",
   "name": "python3"
  },
  "language_info": {
   "codemirror_mode": {
    "name": "ipython",
    "version": 3
   },
   "file_extension": ".py",
   "mimetype": "text/x-python",
   "name": "python",
   "nbconvert_exporter": "python",
   "pygments_lexer": "ipython3",
   "version": "3.7.6"
  }
 },
 "nbformat": 4,
 "nbformat_minor": 4
}
